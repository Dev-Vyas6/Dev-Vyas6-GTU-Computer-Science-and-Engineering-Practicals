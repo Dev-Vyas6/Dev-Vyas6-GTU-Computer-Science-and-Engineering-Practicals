{
  "nbformat": 4,
  "nbformat_minor": 0,
  "metadata": {
    "colab": {
      "provenance": [],
      "collapsed_sections": [],
      "include_colab_link": true
    },
    "kernelspec": {
      "name": "python3",
      "display_name": "Python 3"
    },
    "language_info": {
      "name": "python"
    }
  },
  "cells": [
    {
      "cell_type": "markdown",
      "metadata": {
        "id": "view-in-github",
        "colab_type": "text"
      },
      "source": [
        "<a href=\"https://colab.research.google.com/github/Dev-Vyas6/Dev-Vyas6-GTU-Computer-Science-and-Engineering-Practicals/blob/main/SEM%20%3A%204%20/%20IAM%20/%20Introduction_to_AI_ML_all_Practicals.ipynb\" target=\"_parent\"><img src=\"https://colab.research.google.com/assets/colab-badge.svg\" alt=\"Open In Colab\"/></a>"
      ]
    },
    {
      "cell_type": "markdown",
      "source": [
        "# ***Practical 1***"
      ],
      "metadata": {
        "id": "qOeDwgxmO1si"
      }
    },
    {
      "cell_type": "markdown",
      "source": [
        "AIM : Develop programs to understand the control structures of python."
      ],
      "metadata": {
        "id": "hsX0RLpTPJvW"
      }
    },
    {
      "cell_type": "markdown",
      "source": [
        "1.1) Write a Python Program to find those number which are divisible by 7 and\n",
        "multiple of 5, between 1500 and 2700."
      ],
      "metadata": {
        "id": "9nAwQpP9PNep"
      }
    },
    {
      "cell_type": "code",
      "execution_count": null,
      "metadata": {
        "colab": {
          "base_uri": "https://localhost:8080/"
        },
        "id": "zepiJ__bOvEo",
        "outputId": "1af64eba-a466-4d80-d2b5-ea929536649b"
      },
      "outputs": [
        {
          "output_type": "stream",
          "name": "stdout",
          "text": [
            "Numbers divisible by 7 and multiple of 5 between 1500 and 2700 are: \n",
            "1505\n",
            "1540\n",
            "1575\n",
            "1610\n",
            "1645\n",
            "1680\n",
            "1715\n",
            "1750\n",
            "1785\n",
            "1820\n",
            "1855\n",
            "1890\n",
            "1925\n",
            "1960\n",
            "1995\n",
            "2030\n",
            "2065\n",
            "2100\n",
            "2135\n",
            "2170\n",
            "2205\n",
            "2240\n",
            "2275\n",
            "2310\n",
            "2345\n",
            "2380\n",
            "2415\n",
            "2450\n",
            "2485\n",
            "2520\n",
            "2555\n",
            "2590\n",
            "2625\n",
            "2660\n",
            "2695\n"
          ]
        }
      ],
      "source": [
        "print('Numbers divisible by 7 and multiple of 5 between 1500 and 2700 are: ')\n",
        "for i in range(1500,2701):\n",
        "  if i % 5 == 0 and i % 7 == 0:\n",
        "    print(i)"
      ]
    },
    {
      "cell_type": "markdown",
      "source": [
        "1.2) Write a Python program to construct the following pattern, using nested \n",
        "for loop.\n",
        "*\n",
        "* *\n",
        "* * *\n",
        "* * * *\n",
        "* * * * *\n",
        "* * * *\n",
        "* * *\n",
        "* *\n",
        "*"
      ],
      "metadata": {
        "id": "k87VW5cfPeEl"
      }
    },
    {
      "cell_type": "code",
      "source": [
        "rows = int(input('Enter numbe of rows : '))\n",
        "for i in range(rows+1):\n",
        "  print('*'*i)\n",
        "for i in range(rows):\n",
        "    print('*'*(rows-1-i))"
      ],
      "metadata": {
        "colab": {
          "base_uri": "https://localhost:8080/"
        },
        "id": "vZjeycAYPTsA",
        "outputId": "393e5a0a-ab6d-495c-fef7-030e76540bcd"
      },
      "execution_count": null,
      "outputs": [
        {
          "output_type": "stream",
          "name": "stdout",
          "text": [
            "Enter numbe of rows : 3\n",
            "\n",
            "*\n",
            "**\n",
            "***\n",
            "**\n",
            "*\n",
            "\n"
          ]
        }
      ]
    },
    {
      "cell_type": "markdown",
      "source": [
        "1.3) Write a Python program that accepts a word from user and reverse it (without\n",
        "using the reverse function)."
      ],
      "metadata": {
        "id": "jNE--1NiQoDB"
      }
    },
    {
      "cell_type": "code",
      "source": [
        "string = input('Enter a string : ')\n",
        "print(f'Reversed string is {string[::-1]}')"
      ],
      "metadata": {
        "colab": {
          "base_uri": "https://localhost:8080/"
        },
        "id": "jG6nT3kcPy_r",
        "outputId": "13f95aa2-2910-4bd4-c82c-5834c7c13b0e"
      },
      "execution_count": null,
      "outputs": [
        {
          "output_type": "stream",
          "name": "stdout",
          "text": [
            "Enter a string : Welcome , Good Day\n",
            "Reversed string is yaD dooG , emocleW\n"
          ]
        }
      ]
    },
    {
      "cell_type": "markdown",
      "source": [
        "1.4) Write a Python program to check whether an alphabet is a vowel or consonant."
      ],
      "metadata": {
        "id": "9nISHH_NQyN0"
      }
    },
    {
      "cell_type": "code",
      "source": [
        "char = input('Enter a character: ')\n",
        "if char.lower() in ['a','e','i','o','u']:\n",
        "  print(f'{char} is vowel')\n",
        "else:\n",
        "  print(f'{char} is consonant')"
      ],
      "metadata": {
        "colab": {
          "base_uri": "https://localhost:8080/"
        },
        "id": "68KGLv_TQqX9",
        "outputId": "42c60843-9d6a-45eb-904c-cc22a60c249f"
      },
      "execution_count": null,
      "outputs": [
        {
          "output_type": "stream",
          "name": "stdout",
          "text": [
            "Enter a character: a\n",
            "a is vowel\n"
          ]
        }
      ]
    },
    {
      "cell_type": "markdown",
      "source": [
        "1.5) Write a Python program to find reverse of given number."
      ],
      "metadata": {
        "id": "QZ1eYFM-Q6dS"
      }
    },
    {
      "cell_type": "code",
      "source": [
        "num = int(input('Enter a number : '))\n",
        "temp = 0\n",
        "while num > 0:\n",
        "  temp = temp * 10 + num % 10\n",
        "  num = int(num/10)\n",
        "print(f'Reversed number is {temp}')"
      ],
      "metadata": {
        "colab": {
          "base_uri": "https://localhost:8080/"
        },
        "id": "vLZsBdSuQ4PO",
        "outputId": "e63215ed-6b9c-4b23-f097-72005539b1eb"
      },
      "execution_count": null,
      "outputs": [
        {
          "output_type": "stream",
          "name": "stdout",
          "text": [
            "Enter a number : 123456\n",
            "Reversed number is 654321\n"
          ]
        }
      ]
    },
    {
      "cell_type": "markdown",
      "source": [
        "1.6) Write a Python program to check whether the given no is Armstrong or not using."
      ],
      "metadata": {
        "id": "O01LGczfRDKK"
      }
    },
    {
      "cell_type": "code",
      "source": [
        "num = int(input('Enter a number : '))\n",
        "pow = len(str(num))\n",
        "total = 0\n",
        "temp = num\n",
        "while temp > 0:\n",
        "  total += (temp % 10)**pow\n",
        "  temp = int(temp/10)\n",
        "if total == num:\n",
        "  print(f'{num} is an armstrong number')\n",
        "else:\n",
        "  print(f'{num} is not an armstrong number')"
      ],
      "metadata": {
        "colab": {
          "base_uri": "https://localhost:8080/"
        },
        "id": "X7Yn00ivRBFJ",
        "outputId": "f1bbf18b-c73a-4ae1-e21a-73de28ec3a4b"
      },
      "execution_count": null,
      "outputs": [
        {
          "output_type": "stream",
          "name": "stdout",
          "text": [
            "Enter a number : 10\n",
            "10 is not an armstrong number\n"
          ]
        }
      ]
    },
    {
      "cell_type": "markdown",
      "source": [
        "1.7) To write a Python program to find first n prime numbers."
      ],
      "metadata": {
        "id": "fmgBE4gMRQ1R"
      }
    },
    {
      "cell_type": "code",
      "source": [
        "num = int(input('Enter a number: '))\n",
        "print(f'Prime numbers in range 0 to {num} are : ')\n",
        "for i in range(2,num+1):\n",
        "  for j in range(2,int(i/2) + 1):\n",
        "    if i % j == 0:\n",
        "      break\n",
        "else:\n",
        "  print(i)"
      ],
      "metadata": {
        "colab": {
          "base_uri": "https://localhost:8080/"
        },
        "id": "UjVPCy6KRMC9",
        "outputId": "e2276f1e-9070-424a-9ecb-279b4f49e0cc"
      },
      "execution_count": null,
      "outputs": [
        {
          "output_type": "stream",
          "name": "stdout",
          "text": [
            "Enter a number: 15\n",
            "Prime numbers in range 0 to 15 are : \n",
            "15\n"
          ]
        }
      ]
    },
    {
      "cell_type": "markdown",
      "source": [
        "1.8) Write a Python program to print Fibonacci series upto n terms."
      ],
      "metadata": {
        "id": "wIIkjsiqReHk"
      }
    },
    {
      "cell_type": "code",
      "source": [
        "num = int(input('Enter a number: '))\n",
        "print(f'Fibonacci series till {num}th element are :',end=' ')\n",
        "last2 = 0\n",
        "last = 0\n",
        "current = 1\n",
        "for i in range(num):\n",
        "  print(current, end=' ')\n",
        "  last2 = last\n",
        "  temp = current\n",
        "  current = current + last\n",
        "  last = temp"
      ],
      "metadata": {
        "colab": {
          "base_uri": "https://localhost:8080/"
        },
        "id": "Qow2OFpBRZmm",
        "outputId": "35be851f-6b0b-4b6a-ff83-96b89cfd21d2"
      },
      "execution_count": null,
      "outputs": [
        {
          "output_type": "stream",
          "name": "stdout",
          "text": [
            "Enter a number: 10\n",
            "Fibonacci series till 10th element are : 1 1 2 3 5 8 13 21 34 55 "
          ]
        }
      ]
    },
    {
      "cell_type": "markdown",
      "source": [
        "# ***Practical 2***"
      ],
      "metadata": {
        "id": "iZe35bQeRskg"
      }
    },
    {
      "cell_type": "markdown",
      "source": [
        "AIM : Understand and use different methods of List."
      ],
      "metadata": {
        "id": "crAGgFaERyP7"
      }
    },
    {
      "cell_type": "code",
      "source": [
        "# 1.) Declaration :\n",
        "lst = [i**2 for i in range(13)]\n",
        "print(lst)"
      ],
      "metadata": {
        "colab": {
          "base_uri": "https://localhost:8080/"
        },
        "id": "f7sbAdYkRmA3",
        "outputId": "a342e573-5a33-49db-b1e4-4a2e1df38827"
      },
      "execution_count": null,
      "outputs": [
        {
          "output_type": "stream",
          "name": "stdout",
          "text": [
            "[0, 1, 4, 9, 16, 25, 36, 49, 64, 81, 100, 121, 144]\n"
          ]
        }
      ]
    },
    {
      "cell_type": "code",
      "source": [
        "# 2.) Append method :\n",
        "lst.append(13**2)\n",
        "print(lst)"
      ],
      "metadata": {
        "colab": {
          "base_uri": "https://localhost:8080/"
        },
        "id": "pkBJTLEpR6wb",
        "outputId": "16968c03-05bf-43fc-9c17-ceecacaa2cba"
      },
      "execution_count": null,
      "outputs": [
        {
          "output_type": "stream",
          "name": "stdout",
          "text": [
            "[0, 1, 4, 9, 16, 25, 36, 49, 64, 81, 100, 121, 144, 169]\n"
          ]
        }
      ]
    },
    {
      "cell_type": "code",
      "source": [
        "# 3.) Extend method :\n",
        "lst.extend([i**2 for i in range(14,20)])\n",
        "print(lst)"
      ],
      "metadata": {
        "colab": {
          "base_uri": "https://localhost:8080/"
        },
        "id": "4UlfVD0DR98A",
        "outputId": "3387dd03-c9b2-4fd4-e8a3-1539e26e5580"
      },
      "execution_count": null,
      "outputs": [
        {
          "output_type": "stream",
          "name": "stdout",
          "text": [
            "[0, 1, 4, 9, 16, 25, 36, 49, 64, 81, 100, 121, 144, 169, 196, 225, 256, 289, 324, 361]\n"
          ]
        }
      ]
    },
    {
      "cell_type": "code",
      "source": [
        "# 4.) Index method :\n",
        "print(lst.index(12**2))"
      ],
      "metadata": {
        "colab": {
          "base_uri": "https://localhost:8080/"
        },
        "id": "nZuRfE3tSBXZ",
        "outputId": "30f27101-5544-4123-ca65-10543bf960fc"
      },
      "execution_count": null,
      "outputs": [
        {
          "output_type": "stream",
          "name": "stdout",
          "text": [
            "12\n"
          ]
        }
      ]
    },
    {
      "cell_type": "code",
      "source": [
        "# 5.) Count method :\n",
        "print(lst.count(12**2))"
      ],
      "metadata": {
        "colab": {
          "base_uri": "https://localhost:8080/"
        },
        "id": "dkk-cNOwSETT",
        "outputId": "0aaa14ff-60a3-45ef-da6d-d898f0e3db4c"
      },
      "execution_count": null,
      "outputs": [
        {
          "output_type": "stream",
          "name": "stdout",
          "text": [
            "1\n"
          ]
        }
      ]
    },
    {
      "cell_type": "code",
      "source": [
        "# 6.) Copy method :\n",
        "lst2 = lst.copy()\n",
        "print(lst2)"
      ],
      "metadata": {
        "colab": {
          "base_uri": "https://localhost:8080/"
        },
        "id": "_vb7IRJbSG48",
        "outputId": "3a5608d9-8159-4fb3-c398-4ae351e60eb7"
      },
      "execution_count": null,
      "outputs": [
        {
          "output_type": "stream",
          "name": "stdout",
          "text": [
            "[0, 1, 4, 9, 16, 25, 36, 49, 64, 81, 100, 121, 144, 169, 196, 225, 256, 289, 324, 361]\n"
          ]
        }
      ]
    },
    {
      "cell_type": "code",
      "source": [
        "# 7.) Clear method :\n",
        "lst2.clear()\n",
        "print(lst2)"
      ],
      "metadata": {
        "colab": {
          "base_uri": "https://localhost:8080/"
        },
        "id": "7NYRDNywSMS0",
        "outputId": "b45a0004-7b4d-484c-a640-1055d38534fd"
      },
      "execution_count": null,
      "outputs": [
        {
          "output_type": "stream",
          "name": "stdout",
          "text": [
            "[]\n"
          ]
        }
      ]
    },
    {
      "cell_type": "code",
      "source": [
        "# 8.) Pop method :\n",
        "num = lst.pop()\n",
        "print(lst,num)"
      ],
      "metadata": {
        "colab": {
          "base_uri": "https://localhost:8080/"
        },
        "id": "vWOJnhblSOyV",
        "outputId": "86c49f81-2e35-44a8-bb34-d690ed0ffce6"
      },
      "execution_count": null,
      "outputs": [
        {
          "output_type": "stream",
          "name": "stdout",
          "text": [
            "[0, 1, 4, 9, 16, 25, 36, 49, 64, 81, 100, 121, 144, 169, 196, 225, 256, 289, 324] 361\n"
          ]
        }
      ]
    },
    {
      "cell_type": "code",
      "source": [
        "# 9.) Insert method :\n",
        "lst.insert(2,num)\n",
        "print(lst)"
      ],
      "metadata": {
        "colab": {
          "base_uri": "https://localhost:8080/"
        },
        "id": "ptndft0oSSF5",
        "outputId": "b0826d65-b51f-4633-b805-d8d299bd444b"
      },
      "execution_count": null,
      "outputs": [
        {
          "output_type": "stream",
          "name": "stdout",
          "text": [
            "[0, 1, 361, 4, 9, 16, 25, 36, 49, 64, 81, 100, 121, 144, 169, 196, 225, 256, 289, 324]\n"
          ]
        }
      ]
    },
    {
      "cell_type": "code",
      "source": [
        "# 10.) Remove method :\n",
        "lst.remove(num)\n",
        "print(lst)"
      ],
      "metadata": {
        "colab": {
          "base_uri": "https://localhost:8080/"
        },
        "id": "tzt3TYmCSUd_",
        "outputId": "9e115c10-c4db-4653-80ac-063b8ffc0c5e"
      },
      "execution_count": null,
      "outputs": [
        {
          "output_type": "stream",
          "name": "stdout",
          "text": [
            "[0, 1, 4, 9, 16, 25, 36, 49, 64, 81, 100, 121, 144, 169, 196, 225, 256, 289, 324]\n"
          ]
        }
      ]
    },
    {
      "cell_type": "code",
      "source": [
        "# 11.) Reverse method :\n",
        "lst.reverse()\n",
        "print(lst)"
      ],
      "metadata": {
        "colab": {
          "base_uri": "https://localhost:8080/"
        },
        "id": "eIcJhqhnSWzt",
        "outputId": "14d28d2b-7eff-4e05-afc5-1df15c792e20"
      },
      "execution_count": null,
      "outputs": [
        {
          "output_type": "stream",
          "name": "stdout",
          "text": [
            "[324, 289, 256, 225, 196, 169, 144, 121, 100, 81, 64, 49, 36, 25, 16, 9, 4, 1, 0]\n"
          ]
        }
      ]
    },
    {
      "cell_type": "code",
      "source": [
        "# 12.) Sort method :\n",
        "lst.sort()\n",
        "print(lst)"
      ],
      "metadata": {
        "colab": {
          "base_uri": "https://localhost:8080/"
        },
        "id": "VGT4YlYpSZaP",
        "outputId": "775f4c42-2b8a-42e7-b2b6-dca174e35859"
      },
      "execution_count": null,
      "outputs": [
        {
          "output_type": "stream",
          "name": "stdout",
          "text": [
            "[0, 1, 4, 9, 16, 25, 36, 49, 64, 81, 100, 121, 144, 169, 196, 225, 256, 289, 324]\n"
          ]
        }
      ]
    },
    {
      "cell_type": "markdown",
      "source": [
        "# ***Practical 3***"
      ],
      "metadata": {
        "id": "zkhpf6f4SgH7"
      }
    },
    {
      "cell_type": "markdown",
      "source": [
        "AIM : Understand and use different methods of Tuple."
      ],
      "metadata": {
        "id": "THXBAtp4Slb9"
      }
    },
    {
      "cell_type": "code",
      "source": [
        "# 1.) Declaration :\n",
        "tuple = (1,2,3,4,5)\n",
        "print(tuple)"
      ],
      "metadata": {
        "colab": {
          "base_uri": "https://localhost:8080/"
        },
        "id": "MELrYjwsSbdf",
        "outputId": "d4048358-7df5-4e4a-c659-25d45534cfed"
      },
      "execution_count": null,
      "outputs": [
        {
          "output_type": "stream",
          "name": "stdout",
          "text": [
            "(1, 2, 3, 4, 5)\n"
          ]
        }
      ]
    },
    {
      "cell_type": "code",
      "source": [
        "#2.) Count method :\n",
        "count = tuple.count('2')\n",
        "print(count)"
      ],
      "metadata": {
        "colab": {
          "base_uri": "https://localhost:8080/"
        },
        "id": "y5-gCyL7Spf_",
        "outputId": "6ab2e611-419d-4062-eacc-1eb205e39193"
      },
      "execution_count": null,
      "outputs": [
        {
          "output_type": "stream",
          "name": "stdout",
          "text": [
            "0\n"
          ]
        }
      ]
    },
    {
      "cell_type": "code",
      "source": [
        "# 3.) Index method :\n",
        "index = tuple.index(2)\n",
        "print(index)"
      ],
      "metadata": {
        "colab": {
          "base_uri": "https://localhost:8080/"
        },
        "id": "QOzHffQkStNA",
        "outputId": "b1cd05b7-fb7d-4c8e-b853-8659b8c46bb8"
      },
      "execution_count": null,
      "outputs": [
        {
          "output_type": "stream",
          "name": "stdout",
          "text": [
            "1\n"
          ]
        }
      ]
    },
    {
      "cell_type": "markdown",
      "source": [
        "# ***Practical 4***"
      ],
      "metadata": {
        "id": "P5Kd5Ih6UW8_"
      }
    },
    {
      "cell_type": "markdown",
      "source": [
        "AIM : Understand and use different method of Dictionary."
      ],
      "metadata": {
        "id": "PgR57wNbUYrV"
      }
    },
    {
      "cell_type": "code",
      "source": [
        "# 1.) Declaration :\n",
        "dic = {i:i**2 for i in range(10)}\n",
        "print(dic)"
      ],
      "metadata": {
        "colab": {
          "base_uri": "https://localhost:8080/"
        },
        "id": "dO44FC0xTxdT",
        "outputId": "25c8f610-ead4-4c55-cab9-7565069598b6"
      },
      "execution_count": null,
      "outputs": [
        {
          "output_type": "stream",
          "name": "stdout",
          "text": [
            "{0: 0, 1: 1, 2: 4, 3: 9, 4: 16, 5: 25, 6: 36, 7: 49, 8: 64, 9: 81}\n"
          ]
        }
      ]
    },
    {
      "cell_type": "code",
      "source": [
        "# 2.) Copy method :\n",
        "dic2 = dic.copy()\n",
        "print(dic2)"
      ],
      "metadata": {
        "colab": {
          "base_uri": "https://localhost:8080/"
        },
        "id": "NbAaYQgoUeYp",
        "outputId": "2823c179-5ae8-4c47-9855-3009d25794e4"
      },
      "execution_count": null,
      "outputs": [
        {
          "output_type": "stream",
          "name": "stdout",
          "text": [
            "{0: 0, 1: 1, 2: 4, 3: 9, 4: 16, 5: 25, 6: 36, 7: 49, 8: 64, 9: 81}\n"
          ]
        }
      ]
    },
    {
      "cell_type": "code",
      "source": [
        "# 3.) Clear method :\n",
        "dic2.clear()\n",
        "print(dic2)"
      ],
      "metadata": {
        "colab": {
          "base_uri": "https://localhost:8080/"
        },
        "id": "GDhvRxD2Ugsm",
        "outputId": "7ee622f9-5508-42d3-bb9d-8803349bef63"
      },
      "execution_count": null,
      "outputs": [
        {
          "output_type": "stream",
          "name": "stdout",
          "text": [
            "{}\n"
          ]
        }
      ]
    },
    {
      "cell_type": "code",
      "source": [
        "# 4.) Form Keys method :\n",
        "dic2 = dict.fromkeys([i for i in range(5)],[i**2 for i in range(5)])\n",
        "print(dic2)"
      ],
      "metadata": {
        "colab": {
          "base_uri": "https://localhost:8080/"
        },
        "id": "OdQBJjO2UjyC",
        "outputId": "369845e7-3539-41dd-9d67-4b47e89591a7"
      },
      "execution_count": null,
      "outputs": [
        {
          "output_type": "stream",
          "name": "stdout",
          "text": [
            "{0: [0, 1, 4, 9, 16], 1: [0, 1, 4, 9, 16], 2: [0, 1, 4, 9, 16], 3: [0, 1, 4, 9, 16], 4: [0, 1, 4, 9, 16]}\n"
          ]
        }
      ]
    },
    {
      "cell_type": "code",
      "source": [
        "# 5.) Get method :\n",
        "print(dic2.get(1))"
      ],
      "metadata": {
        "colab": {
          "base_uri": "https://localhost:8080/"
        },
        "id": "VmDICoK8Ul-_",
        "outputId": "fff42f37-462d-425a-cea8-2c2bbf7403be"
      },
      "execution_count": null,
      "outputs": [
        {
          "output_type": "stream",
          "name": "stdout",
          "text": [
            "[0, 1, 4, 9, 16]\n"
          ]
        }
      ]
    },
    {
      "cell_type": "code",
      "source": [
        "# 6.) Items method :\n",
        "print(dic.items())"
      ],
      "metadata": {
        "colab": {
          "base_uri": "https://localhost:8080/"
        },
        "id": "IADcj-tdUpdd",
        "outputId": "a1e80724-77f1-459f-a89e-fbddcf061107"
      },
      "execution_count": null,
      "outputs": [
        {
          "output_type": "stream",
          "name": "stdout",
          "text": [
            "dict_items([(0, 0), (1, 1), (2, 4), (3, 9), (4, 16), (5, 25), (6, 36), (7, 49), (8, 64), (9, 81)])\n"
          ]
        }
      ]
    },
    {
      "cell_type": "code",
      "source": [
        "# 7.) Keys method :\n",
        "print(dic.keys())"
      ],
      "metadata": {
        "colab": {
          "base_uri": "https://localhost:8080/"
        },
        "id": "sasq8rmrUrrZ",
        "outputId": "8e69841f-728f-401a-a234-6abf55024801"
      },
      "execution_count": null,
      "outputs": [
        {
          "output_type": "stream",
          "name": "stdout",
          "text": [
            "dict_keys([0, 1, 2, 3, 4, 5, 6, 7, 8, 9])\n"
          ]
        }
      ]
    },
    {
      "cell_type": "code",
      "source": [
        "# 8.) Values method :\n",
        "print(dic.values())"
      ],
      "metadata": {
        "colab": {
          "base_uri": "https://localhost:8080/"
        },
        "id": "kkeTY8enUt68",
        "outputId": "fd69b3d1-769c-48a8-c8a3-303aee80a255"
      },
      "execution_count": null,
      "outputs": [
        {
          "output_type": "stream",
          "name": "stdout",
          "text": [
            "dict_values([0, 1, 4, 9, 16, 25, 36, 49, 64, 81])\n"
          ]
        }
      ]
    },
    {
      "cell_type": "code",
      "source": [
        "# 9.) Pop method :\n",
        "print(dic2.pop(3))\n",
        "print(dic2)"
      ],
      "metadata": {
        "colab": {
          "base_uri": "https://localhost:8080/"
        },
        "id": "kOQArG9SUv99",
        "outputId": "47363019-9d09-4b56-ef28-bce4defa7b2e"
      },
      "execution_count": null,
      "outputs": [
        {
          "output_type": "stream",
          "name": "stdout",
          "text": [
            "[0, 1, 4, 9, 16]\n",
            "{0: [0, 1, 4, 9, 16], 1: [0, 1, 4, 9, 16], 2: [0, 1, 4, 9, 16], 4: [0, 1, 4, 9, 16]}\n"
          ]
        }
      ]
    },
    {
      "cell_type": "code",
      "source": [
        "# 10.) Popitem method :\n",
        "item = dic2.popitem()\n",
        "print(item)\n",
        "print(dic2)"
      ],
      "metadata": {
        "colab": {
          "base_uri": "https://localhost:8080/"
        },
        "id": "IjVwtVYaYzg9",
        "outputId": "d8eaa9e0-2138-4d9a-c367-efd6d5702568"
      },
      "execution_count": null,
      "outputs": [
        {
          "output_type": "stream",
          "name": "stdout",
          "text": [
            "(4, [0, 1, 4, 9, 16])\n",
            "{0: [0, 1, 4, 9, 16], 1: [0, 1, 4, 9, 16], 2: [0, 1, 4, 9, 16]}\n"
          ]
        }
      ]
    },
    {
      "cell_type": "code",
      "source": [
        "# 11.) Setdefault method :\n",
        "dic2.setdefault(3,9)\n",
        "print(dic2)"
      ],
      "metadata": {
        "colab": {
          "base_uri": "https://localhost:8080/"
        },
        "id": "h9Hl88-cY1-o",
        "outputId": "e8d9f902-2199-486a-cf1d-c96ad2b4e66a"
      },
      "execution_count": null,
      "outputs": [
        {
          "output_type": "stream",
          "name": "stdout",
          "text": [
            "{0: [0, 1, 4, 9, 16], 1: [0, 1, 4, 9, 16], 2: [0, 1, 4, 9, 16], 3: 9}\n"
          ]
        }
      ]
    },
    {
      "cell_type": "code",
      "source": [
        "# 12.) Update method :\n",
        "dic2.update({6:36})\n",
        "print(dic2)"
      ],
      "metadata": {
        "colab": {
          "base_uri": "https://localhost:8080/"
        },
        "id": "KS1rHVGOY4nt",
        "outputId": "a7f4188d-babb-4290-d44b-656376b91620"
      },
      "execution_count": null,
      "outputs": [
        {
          "output_type": "stream",
          "name": "stdout",
          "text": [
            "{0: [0, 1, 4, 9, 16], 1: [0, 1, 4, 9, 16], 2: [0, 1, 4, 9, 16], 3: 9, 6: 36}\n"
          ]
        }
      ]
    },
    {
      "cell_type": "markdown",
      "source": [
        "# ***Practical 5***"
      ],
      "metadata": {
        "id": "gFG_bwB8Y-dh"
      }
    },
    {
      "cell_type": "markdown",
      "source": [
        "AIM : Understand and explore Numpy Library."
      ],
      "metadata": {
        "id": "vs1OBqn8Y_-a"
      }
    },
    {
      "cell_type": "code",
      "source": [
        "# 5.1 Using a numpy module create an array and check the following:\n",
        "# 1. Type of array\n",
        "# 2. Axes of array\n",
        "# 3. Shape of array\n",
        "# 4. Type of elements in array\n",
        "\n",
        "import numpy as np \n",
        "arr = np.array([i for i in range(10)])\n",
        "print(arr)\n",
        "\n",
        "print(type(arr))\n",
        "print(arr.ndim)\n",
        "print(arr.shape)\n",
        "print(arr.dtype)"
      ],
      "metadata": {
        "colab": {
          "base_uri": "https://localhost:8080/"
        },
        "id": "ck6HQS-SY7Uh",
        "outputId": "84ec588c-c3d3-4a01-f2ef-eaab47cb7a9d"
      },
      "execution_count": null,
      "outputs": [
        {
          "output_type": "stream",
          "name": "stdout",
          "text": [
            "[0 1 2 3 4 5 6 7 8 9]\n",
            "<class 'numpy.ndarray'>\n",
            "1\n",
            "(10,)\n",
            "int64\n"
          ]
        }
      ]
    },
    {
      "cell_type": "code",
      "source": [
        "# 5.2 Using a numpy module create array and check the following:\n",
        "# 1. List with type float\n",
        "# 2. 3*4 array with all zeros\n",
        "# 3. From tuple\n",
        "# 4. Random values\n",
        "\n",
        "import numpy as np\n",
        "floats = np.array([i * 1.2 for i in range(10)], dtype=np.float64)\n",
        "print(floats)\n",
        "print(floats.dtype)\n",
        "\n",
        "zeros = np.zeros(shape=(3, 4))\n",
        "print(zeros)\n",
        "print(zeros.shape)\n",
        "\n",
        "from_tuple = np.array((1, 2, 3, 4, 5, 6))\n",
        "print(from_tuple)\n",
        "\n",
        "lst = []\n",
        "for i in range(10):\n",
        "  lst.append(np.random.randint(0, 1000))\n",
        "\n",
        "random_arr = np.array(lst)\n",
        "print(random_arr)"
      ],
      "metadata": {
        "colab": {
          "base_uri": "https://localhost:8080/"
        },
        "id": "8ICpJFTUZKvf",
        "outputId": "80724c3f-0a6a-465b-d810-9a87d28b18a3"
      },
      "execution_count": null,
      "outputs": [
        {
          "output_type": "stream",
          "name": "stdout",
          "text": [
            "[ 0.   1.2  2.4  3.6  4.8  6.   7.2  8.4  9.6 10.8]\n",
            "float64\n",
            "[[0. 0. 0. 0.]\n",
            " [0. 0. 0. 0.]\n",
            " [0. 0. 0. 0.]]\n",
            "(3, 4)\n",
            "[1 2 3 4 5 6]\n",
            "[954  74 527 551 909 340 874 513 709 646]\n"
          ]
        }
      ]
    },
    {
      "cell_type": "code",
      "source": [
        "#5.3 Using a numpy module create array and check the following:\n",
        "# 1. Reshape 3X4 array to 2X2X3 array\n",
        "# 2. Sequence of integers from 0 to 30 with steps of 5\n",
        "# 3. Flatten array\n",
        "# 4. Constant value array of complex type\n",
        "\n",
        "import numpy as np \n",
        "floats = np.array([i * 1.2 for i in range(10)], dtype=np.float64)\n",
        "print(floats)\n",
        "print(floats.dtype)\n",
        "\n",
        "zeros = np.zeros(shape=(3, 4))\n",
        "print(zeros)\n",
        "print(zeros.shape)\n",
        "\n",
        "from_tuple = np.array((1, 2, 3, 4, 5, 6))\n",
        "print(from_tuple)\n",
        "\n",
        "lst = []\n",
        "for i in range(10):\n",
        "  lst.append(np.random.randint(0, 1000))\n",
        "\n",
        "random_arr = np.array(lst)\n",
        "print(random_arr)"
      ],
      "metadata": {
        "colab": {
          "base_uri": "https://localhost:8080/"
        },
        "id": "NjGB90QvZfOb",
        "outputId": "50476255-3b29-42bd-f991-8396e31068e7"
      },
      "execution_count": null,
      "outputs": [
        {
          "output_type": "stream",
          "name": "stdout",
          "text": [
            "[ 0.   1.2  2.4  3.6  4.8  6.   7.2  8.4  9.6 10.8]\n",
            "float64\n",
            "[[0. 0. 0. 0.]\n",
            " [0. 0. 0. 0.]\n",
            " [0. 0. 0. 0.]]\n",
            "(3, 4)\n",
            "[1 2 3 4 5 6]\n",
            "[634 105 606  36 997 493 706 618 520 792]\n"
          ]
        }
      ]
    },
    {
      "cell_type": "markdown",
      "source": [
        "# ***Practical 6***"
      ],
      "metadata": {
        "id": "lfNhoxDmZ2Q7"
      }
    },
    {
      "cell_type": "markdown",
      "source": [
        "AIM : Understand and explore Pandas Library."
      ],
      "metadata": {
        "id": "9lOnxCgMZ3z5"
      }
    },
    {
      "cell_type": "code",
      "source": [
        "# 6.1 Create a pandas series from a dictionary of values and an ndarray.\n",
        "\n",
        "import numpy as np\n",
        "import pandas as pd\n",
        "dict = {i: i ** 2 for i in range(10)}\n",
        "arr = np.array([1, 2, 3])\n",
        "series = pd.Series(dict)\n",
        "print(series)\n",
        "series = pd.Series(arr)\n",
        "print(series)"
      ],
      "metadata": {
        "colab": {
          "base_uri": "https://localhost:8080/"
        },
        "id": "PjAqP7gsZt-j",
        "outputId": "7bba0423-7c0c-449f-ef02-f7bc3d8501e5"
      },
      "execution_count": null,
      "outputs": [
        {
          "output_type": "stream",
          "name": "stdout",
          "text": [
            "0     0\n",
            "1     1\n",
            "2     4\n",
            "3     9\n",
            "4    16\n",
            "5    25\n",
            "6    36\n",
            "7    49\n",
            "8    64\n",
            "9    81\n",
            "dtype: int64\n",
            "0    1\n",
            "1    2\n",
            "2    3\n",
            "dtype: int64\n"
          ]
        }
      ]
    },
    {
      "cell_type": "code",
      "source": [
        "# 6.2 Write a Pandas program to perform arithmetic operations on two Pandas Series.\n",
        "\n",
        "import numpy as np\n",
        "import pandas as pd\n",
        "series1 = pd.Series([1, 2, 3, 4, 5], index=[\"a\", \"b\", \"c\", \"d\", \"e\"])\n",
        "series2 = pd.Series([6, 7, 8, 9, 10], index=[\"a\", \"b\", \"c\", \"d\", \"e\"])\n",
        "print(series1 + series2)\n",
        "print(series1 - series2)\n",
        "print(series1 * series2)\n",
        "print(series1 / series2)"
      ],
      "metadata": {
        "colab": {
          "base_uri": "https://localhost:8080/"
        },
        "id": "wJj2u06dZ_jM",
        "outputId": "a962ce84-6d21-4dc1-f2c0-e1ffc125cc17"
      },
      "execution_count": null,
      "outputs": [
        {
          "output_type": "stream",
          "name": "stdout",
          "text": [
            "a     7\n",
            "b     9\n",
            "c    11\n",
            "d    13\n",
            "e    15\n",
            "dtype: int64\n",
            "a   -5\n",
            "b   -5\n",
            "c   -5\n",
            "d   -5\n",
            "e   -5\n",
            "dtype: int64\n",
            "a     6\n",
            "b    14\n",
            "c    24\n",
            "d    36\n",
            "e    50\n",
            "dtype: int64\n",
            "a    0.166667\n",
            "b    0.285714\n",
            "c    0.375000\n",
            "d    0.444444\n",
            "e    0.500000\n",
            "dtype: float64\n"
          ]
        }
      ]
    },
    {
      "cell_type": "code",
      "source": [
        "# 6.3 Write a Pandas program to add some data to an existing Series.\n",
        "\n",
        "import numpy as np\n",
        "import pandas as pd\n",
        "series = pd.Series([1, 2, 3, 4, 5], index=[\"a\", \"b\", \"c\", \"d\", \"e\"])\n",
        "print(series)\n",
        "series = series.append(pd.Series([6, 7, 8, 9, 10], index=[\"f\", \"g\", \"h\", \"i\", \"j\"]))\n",
        "print(series)"
      ],
      "metadata": {
        "colab": {
          "base_uri": "https://localhost:8080/"
        },
        "id": "LYy51YRMaVws",
        "outputId": "8070451b-7766-46a4-96de-261e0f89f579"
      },
      "execution_count": null,
      "outputs": [
        {
          "output_type": "stream",
          "name": "stdout",
          "text": [
            "a    1\n",
            "b    2\n",
            "c    3\n",
            "d    4\n",
            "e    5\n",
            "dtype: int64\n",
            "a     1\n",
            "b     2\n",
            "c     3\n",
            "d     4\n",
            "e     5\n",
            "f     6\n",
            "g     7\n",
            "h     8\n",
            "i     9\n",
            "j    10\n",
            "dtype: int64\n"
          ]
        }
      ]
    },
    {
      "cell_type": "code",
      "source": [
        "# 6.4 Write a Pandas program to select the rows where the percentage greater than 70.\n",
        "\n",
        "import numpy as np\n",
        "import pandas as pd\n",
        "df = pd.DataFrame(np.random.randint(0, 100, size=(5, 3)), columns=[\"A\", \"B\", \"C\"])\n",
        "print(df)\n",
        "print(df[df[\"A\"] > 70])"
      ],
      "metadata": {
        "colab": {
          "base_uri": "https://localhost:8080/"
        },
        "id": "wRmg9bjoaeCZ",
        "outputId": "4dbb30fe-bcdf-40c1-df0c-99fcecfa810f"
      },
      "execution_count": null,
      "outputs": [
        {
          "output_type": "stream",
          "name": "stdout",
          "text": [
            "    A   B   C\n",
            "0  67  80  69\n",
            "1  32  60  28\n",
            "2  72  63  82\n",
            "3   6  12  25\n",
            "4  33  52  64\n",
            "    A   B   C\n",
            "2  72  63  82\n"
          ]
        }
      ]
    },
    {
      "cell_type": "code",
      "source": [
        "# 6.5 Write a Pandas program to append a list of dictionaries or series to an existing DataFrame and display the combined data.\n",
        "\n",
        "import numpy as np\n",
        "import pandas as pd\n",
        "df = pd.DataFrame(np.random.randint(0, 100, size=(5, 3)), columns=[\"A\", \"B\", \"C\"])\n",
        "print(df)\n",
        "df = df.append(\n",
        "  pd.DataFrame(np.random.randint(0, 100, size=(5, 3)), columns=[\"A\", \"B\", \"C\"]))\n",
        "print(df)"
      ],
      "metadata": {
        "colab": {
          "base_uri": "https://localhost:8080/"
        },
        "id": "alhtfM02anYV",
        "outputId": "f687cd8d-e814-470e-818c-6b33440d6d04"
      },
      "execution_count": null,
      "outputs": [
        {
          "output_type": "stream",
          "name": "stdout",
          "text": [
            "    A   B   C\n",
            "0  78  57   0\n",
            "1  57  43  42\n",
            "2  34  94  73\n",
            "3   8  88   2\n",
            "4  59  73  70\n",
            "    A   B   C\n",
            "0  78  57   0\n",
            "1  57  43  42\n",
            "2  34  94  73\n",
            "3   8  88   2\n",
            "4  59  73  70\n",
            "0  60  51  81\n",
            "1  36  97  77\n",
            "2  57  19  79\n",
            "3  18   6  13\n",
            "4  29  91   5\n"
          ]
        }
      ]
    },
    {
      "cell_type": "code",
      "source": [
        "# 6.6 Program to select or filter rows from a DataFrame based on values in columns in pandas ( Use of Relational and Logical Operators).\n",
        "\n",
        "import numpy as np\n",
        "import pandas as pd\n",
        "df = pd.DataFrame(np.random.randint(0, 100, size=(5, 3)), columns=[\"A\", \"B\", \"C\"])\n",
        "print(df)\n",
        "print(df[df[\"A\"] > 70])\n",
        "print(df[(df[\"A\"] > 70) & (df[\"B\"] > 70)])\n",
        "print(df[(df[\"A\"] > 70) | (df[\"B\"] > 70)])"
      ],
      "metadata": {
        "colab": {
          "base_uri": "https://localhost:8080/"
        },
        "id": "15sOY0N1ayGk",
        "outputId": "9d9e229f-9316-4f4f-8bf5-0127445cdb94"
      },
      "execution_count": null,
      "outputs": [
        {
          "output_type": "stream",
          "name": "stdout",
          "text": [
            "    A   B   C\n",
            "0  72  46  15\n",
            "1  29  65  28\n",
            "2  88  81  66\n",
            "3  66  68  55\n",
            "4  49  68  20\n",
            "    A   B   C\n",
            "0  72  46  15\n",
            "2  88  81  66\n",
            "    A   B   C\n",
            "2  88  81  66\n",
            "    A   B   C\n",
            "0  72  46  15\n",
            "2  88  81  66\n"
          ]
        }
      ]
    },
    {
      "cell_type": "markdown",
      "source": [
        "# ***Practical 7***"
      ],
      "metadata": {
        "id": "EYlF9j4_bANA"
      }
    },
    {
      "cell_type": "markdown",
      "source": [
        "AIM : Using any data apply the concept of:"
      ],
      "metadata": {
        "id": "SR6dCIvUbBLe"
      }
    },
    {
      "cell_type": "code",
      "source": [
        "# 7.1 Liner regression :\n",
        "\n",
        "# importing libraries\n",
        "import pandas as pd\n",
        "import numpy as np\n",
        "import matplotlib.pyplot as plt\n",
        "from sklearn.model_selection import train_test_split\n",
        "from sklearn.linear_model import LinearRegression\n",
        "\n",
        "# dataset\n",
        "data = pd.read_csv(\"/content/Salary_Data (2).csv\")\n",
        "data\n",
        "# separating data variables\n",
        "x = data.iloc[:, 0].values\n",
        "y = data.iloc[:, 1].values\n",
        "\n",
        "x = x.reshape(-1, 1)\n",
        "y = y.reshape(-1, 1)\n",
        "# dataset division\n",
        "training_x, test_x, training_y, test_y = train_test_split(\n",
        "x, y, test_size=0.3, random_state=0\n",
        ")\n",
        "len(training_x)\n",
        "\n",
        "# testing\n",
        "lin = LinearRegression()\n",
        "lin.fit(training_x, training_y)\n",
        "\n",
        "# prediction\n",
        "\n",
        "pred_y = lin.predict(test_x)\n",
        "\n",
        "# comparing values\n",
        "\n",
        "print(test_y[4])\n",
        "print(pred_y[4])\n",
        "\n",
        "# ploting values\n",
        "\n",
        "plt.scatter(training_x, training_y, color=\"red\")\n",
        "plt.plot(training_x, lin.predict(training_x), color=\"orange\")\n",
        "plt.title(\"training data\")\n",
        "plt.ylabel(\"salary\")\n",
        "plt.xlabel(\"exp\")\n",
        "plt.show()\n",
        "\n",
        "plt.scatter(test_x, test_y, color=\"blue\")\n",
        "plt.plot(test_x, pred_y)\n",
        "plt.title(\"testing data\")\n",
        "plt.ylabel(\"salary\")\n",
        "plt.xlabel(\"exp\")\n",
        "plt.show()\n",
        "\n",
        "# equation verification\n",
        "# equation :- y = mx + c\n",
        "\n",
        "print(lin.coef_)\n",
        "print(lin.intercept_)\n",
        "print(lin.coef_ * 10.3 + lin.intercept_)\n",
        "print(data)"
      ],
      "metadata": {
        "colab": {
          "base_uri": "https://localhost:8080/",
          "height": 1000
        },
        "id": "_NFG3-zAa6vf",
        "outputId": "eb4de0da-a8f0-4b4f-e8d6-005d1335a4d8"
      },
      "execution_count": null,
      "outputs": [
        {
          "output_type": "stream",
          "name": "stdout",
          "text": [
            "[116969.]\n",
            "[115699.87356004]\n"
          ]
        },
        {
          "output_type": "display_data",
          "data": {
            "text/plain": [
              "<Figure size 432x288 with 1 Axes>"
            ],
            "image/png": "[encoded data removed]"
          },
          "metadata": {
            "needs_background": "light"
          }
        },
        {
          "output_type": "display_data",
          "data": {
            "text/plain": [
              "<Figure size 432x288 with 1 Axes>"
            ],
            "image/png": "[encoded data removed]"
          },
          "metadata": {
            "needs_background": "light"
          }
        },
        {
          "output_type": "stream",
          "name": "stdout",
          "text": [
            "[[9360.26128619]]\n",
            "[26777.3913412]\n",
            "[[123188.08258899]]\n",
            "    YearsExperience    Salary\n",
            "0               1.1   39343.0\n",
            "1               1.3   46205.0\n",
            "2               1.5   37731.0\n",
            "3               2.0   43525.0\n",
            "4               2.2   39891.0\n",
            "5               2.9   56642.0\n",
            "6               3.0   60150.0\n",
            "7               3.2   54445.0\n",
            "8               3.2   64445.0\n",
            "9               3.7   57189.0\n",
            "10              3.9   63218.0\n",
            "11              4.0   55794.0\n",
            "12              4.0   56957.0\n",
            "13              4.1   57081.0\n",
            "14              4.5   61111.0\n",
            "15              4.9   67938.0\n",
            "16              5.1   66029.0\n",
            "17              5.3   83088.0\n",
            "18              5.9   81363.0\n",
            "19              6.0   93940.0\n",
            "20              6.8   91738.0\n",
            "21              7.1   98273.0\n",
            "22              7.9  101302.0\n",
            "23              8.2  113812.0\n",
            "24              8.7  109431.0\n",
            "25              9.0  105582.0\n",
            "26              9.5  116969.0\n",
            "27              9.6  112635.0\n",
            "28             10.3  122391.0\n",
            "29             10.5  121872.0\n"
          ]
        }
      ]
    },
    {
      "cell_type": "code",
      "source": [
        "# 7.2 Gradient decent\n",
        "\n",
        "import numpy as np\n",
        "import pandas as pd\n",
        "import matplotlib.pyplot as plt\n",
        "from sklearn.model_selection import train_test_split\n",
        "\n",
        "# dataset\n",
        "data = pd.read_csv(\"/content/Salary_Data.csv\")\n",
        "\n",
        "# separating data variables\n",
        "x = data.iloc[:, 0].values\n",
        "y = data.iloc[:, 1].values\n",
        "\n",
        "x = x.reshape(-1, 1)\n",
        "y = y.reshape(-1, 1)\n",
        "# dataset division\n",
        "training_x, test_x, training_y, test_y = train_test_split(x, y, test_size=0.3)\n",
        "\n",
        "# implement gradient decent algorithm\n",
        "def gradient_descent_plot(x, y, m, c):\n",
        "  x_pred = np.linspace(min(x), max(x), 100)\n",
        "  y_pred = m * x_pred + c\n",
        "  plt.scatter(x, y, color=\"red\")\n",
        "  plt.plot(x_pred, y_pred, color=\"orange\")\n",
        "  plt.title(\"training data\")\n",
        "  plt.ylabel(\"salary\")\n",
        "  plt.xlabel(\"exp\")\n",
        "  plt.show()\n",
        "\n",
        "def gradient_descent(x, y, m, c, alpha, iterations):\n",
        "  for i in range(iterations):\n",
        "    y_pred = m * x + c\n",
        "    cost = (1 / (2 * len(x))) * np.sum((y - y_pred) ** 2)\n",
        "    m = m - (alpha / len(x)) * np.sum((y_pred - y) * x)\n",
        "    c = c - (alpha / len(x)) * np.sum(y_pred - y)\n",
        "  return m, c, cost\n",
        "\n",
        "m, c, cost = gradient_descent(training_x, training_y, 0, 0, 0.01, 1001)\n",
        "print(m, c, cost)\n",
        "gradient_descent_plot(x, y, m, c)"
      ],
      "metadata": {
        "colab": {
          "base_uri": "https://localhost:8080/",
          "height": 313
        },
        "id": "lVa8zBCde7rl",
        "outputId": "bfc47f17-44be-4532-fa00-2912b4772979"
      },
      "execution_count": null,
      "outputs": [
        {
          "output_type": "stream",
          "name": "stdout",
          "text": [
            "9891.182926642205 23543.67219215229 14436900.997662699\n"
          ]
        },
        {
          "output_type": "display_data",
          "data": {
            "text/plain": [
              "<Figure size 432x288 with 1 Axes>"
            ],
            "image/png": "[encoded data removed]"
          },
          "metadata": {
            "needs_background": "light"
          }
        }
      ]
    },
    {
      "cell_type": "code",
      "source": [
        "# 7.2 Logestic regression\n",
        "\n",
        "import numpy as np\n",
        "import pandas as pd\n",
        "import matplotlib.pyplot as plt\n",
        "from sklearn.model_selection import train_test_split\n",
        "from sklearn.preprocessing import StandardScaler\n",
        "from sklearn.linear_model import LogisticRegression\n",
        "from sklearn.metrics import confusion_matrix\n",
        "from matplotlib.colors import ListedColormap\n",
        "\n",
        "# loading data\n",
        "data = pd.read_csv(\"/content/Social_Network_Ads (2).csv\")\n",
        "data\n",
        "\n",
        "# preparing data\n",
        "x = data.iloc[:, [2, 3]].values\n",
        "y = data.iloc[:, [4]].values\n",
        "print(x, y)\n",
        "\n",
        "# splitting data\n",
        "x_train, x_test, y_train, y_test = train_test_split(x, y, test_size=0.25)\n",
        "\n",
        "# getting data in valid range (-2,2)\n",
        "scaler = StandardScaler()\n",
        "x_train = scaler.fit_transform(x_train)\n",
        "x_test = scaler.fit_transform(x_test)\n",
        "\n",
        "# training model\n",
        "classifier_lr = LogisticRegression()\n",
        "\n",
        "classifier_lr.fit(x_train, y_train)\n",
        "# predicting\n",
        "y_pred = classifier_lr.predict(x_test)\n",
        "\n",
        "# checking accuracy\n",
        "cm = confusion_matrix(y_test, y_pred)\n",
        "print(\n",
        "    cm\n",
        ") # diagonal is correct matches and other two are incorrect so correct = add diagonal values and incorrect = add other two values\n",
        "\n",
        "print((cm[0][0] + cm[1][1]) / (cm[0][0] + cm[0][1] + cm[1][0] + cm[1][1]) * 100)\n",
        "\n",
        "# plotting\n",
        "x_set, y_set = x_train, y_train\n",
        "x1, x2 = np.meshgrid(\n",
        "  np.arange(start=x_set[:, 0].min() - 1, stop=x_set[:, 0].max() + 1, step=0.01),\n",
        "  np.arange(start=x_set[:, 1].min() - 1, stop=x_set[:, 1].max() + 1, step=0.01),\n",
        ")\n",
        "plt.contourf(\n",
        "  x1,\n",
        "  x2,\n",
        "  classifier_lr.predict(np.array([x1.ravel(), x2.ravel()]).T).reshape(x1.shape),\n",
        "  alpha=0.50,\n",
        "  cmap=ListedColormap((\"red\", \"green\")),\n",
        ") # it will divide data logistic regression and ravel function will find midpoint\n",
        "y_set = y_set.flatten()\n",
        "plt.xlim(x1.min(), x1.max())\n",
        "plt.ylim(x2.min(), x2.max())\n",
        "for i, j in enumerate(np.unique(y_set)):\n",
        "  plt.scatter(\n",
        "      x_set[y_set == j, 0],\n",
        "      x_set[y_set == j, 1],\n",
        "      c=ListedColormap((\"red\", \"green\"))(i),\n",
        "      label=j,\n",
        "  )\n",
        "plt.xlabel(\"Age\")\n",
        "plt.ylabel(\"salary\")\n",
        "plt.legend()\n",
        "plt.show()\n",
        "\n",
        "x_set, y_set = x_test, y_test\n",
        "x1, x2 = np.meshgrid(\n",
        "  np.arange(start=x_set[:, 0].min() - 1, stop=x_set[:, 0].max() + 1, step=0.01),\n",
        "  np.arange(start=x_set[:, 1].min() - 1, stop=x_set[:, 1].max() + 1, step=0.01),\n",
        ")\n",
        "plt.contourf(\n",
        "  x1,\n",
        "  x2,\n",
        "  classifier_lr.predict(np.array([x1.ravel(), x2.ravel()]).T).reshape(x1.shape),\n",
        "  alpha=0.50,\n",
        "  cmap=ListedColormap((\"red\", \"green\")),\n",
        ") # it will divide data logistic regression and ravel function will fing midpoint\n",
        "y_set = y_set.flatten()\n",
        "plt.xlim(x1.min(), x1.max())\n",
        "plt.ylim(x2.min(), x2.max())\n",
        "for i, j in enumerate(np.unique(y_set)):\n",
        "  plt.scatter(\n",
        "    x_set[y_set == j, 0],\n",
        "    x_set[y_set == j, 1],\n",
        "    c=ListedColormap((\"red\", \"green\"))(i),\n",
        "    label=j,\n",
        ")\n",
        "plt.xlabel(\"Age\")\n",
        "plt.ylabel(\"salary\")\n",
        "plt.legend()\n",
        "plt.show()"
      ],
      "metadata": {
        "colab": {
          "base_uri": "https://localhost:8080/",
          "height": 1000
        },
        "id": "GQwb-ep-gtBF",
        "outputId": "77dfd66f-a944-42e3-ad7e-cde42dc9e2ca"
      },
      "execution_count": null,
      "outputs": [
        {
          "output_type": "stream",
          "name": "stderr",
          "text": [
            "/usr/local/lib/python3.7/dist-packages/sklearn/utils/validation.py:993: DataConversionWarning: A column-vector y was passed when a 1d array was expected. Please change the shape of y to (n_samples, ), for example using ravel().\n",
            "  y = column_or_1d(y, warn=True)\n",
            "WARNING:matplotlib.axes._axes:*c* argument looks like a single numeric RGB or RGBA sequence, which should be avoided as value-mapping will have precedence in case its length matches with *x* & *y*.  Please use the *color* keyword-argument or provide a 2-D array with a single row if you intend to specify the same RGB or RGBA value for all points.\n",
            "WARNING:matplotlib.axes._axes:*c* argument looks like a single numeric RGB or RGBA sequence, which should be avoided as value-mapping will have precedence in case its length matches with *x* & *y*.  Please use the *color* keyword-argument or provide a 2-D array with a single row if you intend to specify the same RGB or RGBA value for all points.\n"
          ]
        },
        {
          "output_type": "stream",
          "name": "stdout",
          "text": [
            "[[    19  19000]\n",
            " [    35  20000]\n",
            " [    26  43000]\n",
            " [    27  57000]\n",
            " [    19  76000]\n",
            " [    27  58000]\n",
            " [    27  84000]\n",
            " [    32 150000]\n",
            " [    25  33000]\n",
            " [    35  65000]\n",
            " [    26  80000]\n",
            " [    26  52000]\n",
            " [    20  86000]\n",
            " [    32  18000]\n",
            " [    18  82000]\n",
            " [    29  80000]\n",
            " [    47  25000]\n",
            " [    45  26000]\n",
            " [    46  28000]\n",
            " [    48  29000]\n",
            " [    45  22000]\n",
            " [    47  49000]\n",
            " [    48  41000]\n",
            " [    45  22000]\n",
            " [    46  23000]\n",
            " [    47  20000]\n",
            " [    49  28000]\n",
            " [    47  30000]\n",
            " [    29  43000]\n",
            " [    31  18000]\n",
            " [    31  74000]\n",
            " [    27 137000]\n",
            " [    21  16000]\n",
            " [    28  44000]\n",
            " [    27  90000]\n",
            " [    35  27000]\n",
            " [    33  28000]\n",
            " [    30  49000]\n",
            " [    26  72000]\n",
            " [    27  31000]\n",
            " [    27  17000]\n",
            " [    33  51000]\n",
            " [    35 108000]\n",
            " [    30  15000]\n",
            " [    28  84000]\n",
            " [    23  20000]\n",
            " [    25  79000]\n",
            " [    27  54000]\n",
            " [    30 135000]\n",
            " [    31  89000]\n",
            " [    24  32000]\n",
            " [    18  44000]\n",
            " [    29  83000]\n",
            " [    35  23000]\n",
            " [    27  58000]\n",
            " [    24  55000]\n",
            " [    23  48000]\n",
            " [    28  79000]\n",
            " [    22  18000]\n",
            " [    32 117000]\n",
            " [    27  20000]\n",
            " [    25  87000]\n",
            " [    23  66000]\n",
            " [    32 120000]\n",
            " [    59  83000]\n",
            " [    24  58000]\n",
            " [    24  19000]\n",
            " [    23  82000]\n",
            " [    22  63000]\n",
            " [    31  68000]\n",
            " [    25  80000]\n",
            " [    24  27000]\n",
            " [    20  23000]\n",
            " [    33 113000]\n",
            " [    32  18000]\n",
            " [    34 112000]\n",
            " [    18  52000]\n",
            " [    22  27000]\n",
            " [    28  87000]\n",
            " [    26  17000]\n",
            " [    30  80000]\n",
            " [    39  42000]\n",
            " [    20  49000]\n",
            " [    35  88000]\n",
            " [    30  62000]\n",
            " [    31 118000]\n",
            " [    24  55000]\n",
            " [    28  85000]\n",
            " [    26  81000]\n",
            " [    35  50000]\n",
            " [    22  81000]\n",
            " [    30 116000]\n",
            " [    26  15000]\n",
            " [    29  28000]\n",
            " [    29  83000]\n",
            " [    35  44000]\n",
            " [    35  25000]\n",
            " [    28 123000]\n",
            " [    35  73000]\n",
            " [    28  37000]\n",
            " [    27  88000]\n",
            " [    28  59000]\n",
            " [    32  86000]\n",
            " [    33 149000]\n",
            " [    19  21000]\n",
            " [    21  72000]\n",
            " [    26  35000]\n",
            " [    27  89000]\n",
            " [    26  86000]\n",
            " [    38  80000]\n",
            " [    39  71000]\n",
            " [    37  71000]\n",
            " [    38  61000]\n",
            " [    37  55000]\n",
            " [    42  80000]\n",
            " [    40  57000]\n",
            " [    35  75000]\n",
            " [    36  52000]\n",
            " [    40  59000]\n",
            " [    41  59000]\n",
            " [    36  75000]\n",
            " [    37  72000]\n",
            " [    40  75000]\n",
            " [    35  53000]\n",
            " [    41  51000]\n",
            " [    39  61000]\n",
            " [    42  65000]\n",
            " [    26  32000]\n",
            " [    30  17000]\n",
            " [    26  84000]\n",
            " [    31  58000]\n",
            " [    33  31000]\n",
            " [    30  87000]\n",
            " [    21  68000]\n",
            " [    28  55000]\n",
            " [    23  63000]\n",
            " [    20  82000]\n",
            " [    30 107000]\n",
            " [    28  59000]\n",
            " [    19  25000]\n",
            " [    19  85000]\n",
            " [    18  68000]\n",
            " [    35  59000]\n",
            " [    30  89000]\n",
            " [    34  25000]\n",
            " [    24  89000]\n",
            " [    27  96000]\n",
            " [    41  30000]\n",
            " [    29  61000]\n",
            " [    20  74000]\n",
            " [    26  15000]\n",
            " [    41  45000]\n",
            " [    31  76000]\n",
            " [    36  50000]\n",
            " [    40  47000]\n",
            " [    31  15000]\n",
            " [    46  59000]\n",
            " [    29  75000]\n",
            " [    26  30000]\n",
            " [    32 135000]\n",
            " [    32 100000]\n",
            " [    25  90000]\n",
            " [    37  33000]\n",
            " [    35  38000]\n",
            " [    33  69000]\n",
            " [    18  86000]\n",
            " [    22  55000]\n",
            " [    35  71000]\n",
            " [    29 148000]\n",
            " [    29  47000]\n",
            " [    21  88000]\n",
            " [    34 115000]\n",
            " [    26 118000]\n",
            " [    34  43000]\n",
            " [    34  72000]\n",
            " [    23  28000]\n",
            " [    35  47000]\n",
            " [    25  22000]\n",
            " [    24  23000]\n",
            " [    31  34000]\n",
            " [    26  16000]\n",
            " [    31  71000]\n",
            " [    32 117000]\n",
            " [    33  43000]\n",
            " [    33  60000]\n",
            " [    31  66000]\n",
            " [    20  82000]\n",
            " [    33  41000]\n",
            " [    35  72000]\n",
            " [    28  32000]\n",
            " [    24  84000]\n",
            " [    19  26000]\n",
            " [    29  43000]\n",
            " [    19  70000]\n",
            " [    28  89000]\n",
            " [    34  43000]\n",
            " [    30  79000]\n",
            " [    20  36000]\n",
            " [    26  80000]\n",
            " [    35  22000]\n",
            " [    35  39000]\n",
            " [    49  74000]\n",
            " [    39 134000]\n",
            " [    41  71000]\n",
            " [    58 101000]\n",
            " [    47  47000]\n",
            " [    55 130000]\n",
            " [    52 114000]\n",
            " [    40 142000]\n",
            " [    46  22000]\n",
            " [    48  96000]\n",
            " [    52 150000]\n",
            " [    59  42000]\n",
            " [    35  58000]\n",
            " [    47  43000]\n",
            " [    60 108000]\n",
            " [    49  65000]\n",
            " [    40  78000]\n",
            " [    46  96000]\n",
            " [    59 143000]\n",
            " [    41  80000]\n",
            " [    35  91000]\n",
            " [    37 144000]\n",
            " [    60 102000]\n",
            " [    35  60000]\n",
            " [    37  53000]\n",
            " [    36 126000]\n",
            " [    56 133000]\n",
            " [    40  72000]\n",
            " [    42  80000]\n",
            " [    35 147000]\n",
            " [    39  42000]\n",
            " [    40 107000]\n",
            " [    49  86000]\n",
            " [    38 112000]\n",
            " [    46  79000]\n",
            " [    40  57000]\n",
            " [    37  80000]\n",
            " [    46  82000]\n",
            " [    53 143000]\n",
            " [    42 149000]\n",
            " [    38  59000]\n",
            " [    50  88000]\n",
            " [    56 104000]\n",
            " [    41  72000]\n",
            " [    51 146000]\n",
            " [    35  50000]\n",
            " [    57 122000]\n",
            " [    41  52000]\n",
            " [    35  97000]\n",
            " [    44  39000]\n",
            " [    37  52000]\n",
            " [    48 134000]\n",
            " [    37 146000]\n",
            " [    50  44000]\n",
            " [    52  90000]\n",
            " [    41  72000]\n",
            " [    40  57000]\n",
            " [    58  95000]\n",
            " [    45 131000]\n",
            " [    35  77000]\n",
            " [    36 144000]\n",
            " [    55 125000]\n",
            " [    35  72000]\n",
            " [    48  90000]\n",
            " [    42 108000]\n",
            " [    40  75000]\n",
            " [    37  74000]\n",
            " [    47 144000]\n",
            " [    40  61000]\n",
            " [    43 133000]\n",
            " [    59  76000]\n",
            " [    60  42000]\n",
            " [    39 106000]\n",
            " [    57  26000]\n",
            " [    57  74000]\n",
            " [    38  71000]\n",
            " [    49  88000]\n",
            " [    52  38000]\n",
            " [    50  36000]\n",
            " [    59  88000]\n",
            " [    35  61000]\n",
            " [    37  70000]\n",
            " [    52  21000]\n",
            " [    48 141000]\n",
            " [    37  93000]\n",
            " [    37  62000]\n",
            " [    48 138000]\n",
            " [    41  79000]\n",
            " [    37  78000]\n",
            " [    39 134000]\n",
            " [    49  89000]\n",
            " [    55  39000]\n",
            " [    37  77000]\n",
            " [    35  57000]\n",
            " [    36  63000]\n",
            " [    42  73000]\n",
            " [    43 112000]\n",
            " [    45  79000]\n",
            " [    46 117000]\n",
            " [    58  38000]\n",
            " [    48  74000]\n",
            " [    37 137000]\n",
            " [    37  79000]\n",
            " [    40  60000]\n",
            " [    42  54000]\n",
            " [    51 134000]\n",
            " [    47 113000]\n",
            " [    36 125000]\n",
            " [    38  50000]\n",
            " [    42  70000]\n",
            " [    39  96000]\n",
            " [    38  50000]\n",
            " [    49 141000]\n",
            " [    39  79000]\n",
            " [    39  75000]\n",
            " [    54 104000]\n",
            " [    35  55000]\n",
            " [    45  32000]\n",
            " [    36  60000]\n",
            " [    52 138000]\n",
            " [    53  82000]\n",
            " [    41  52000]\n",
            " [    48  30000]\n",
            " [    48 131000]\n",
            " [    41  60000]\n",
            " [    41  72000]\n",
            " [    42  75000]\n",
            " [    36 118000]\n",
            " [    47 107000]\n",
            " [    38  51000]\n",
            " [    48 119000]\n",
            " [    42  65000]\n",
            " [    40  65000]\n",
            " [    57  60000]\n",
            " [    36  54000]\n",
            " [    58 144000]\n",
            " [    35  79000]\n",
            " [    38  55000]\n",
            " [    39 122000]\n",
            " [    53 104000]\n",
            " [    35  75000]\n",
            " [    38  65000]\n",
            " [    47  51000]\n",
            " [    47 105000]\n",
            " [    41  63000]\n",
            " [    53  72000]\n",
            " [    54 108000]\n",
            " [    39  77000]\n",
            " [    38  61000]\n",
            " [    38 113000]\n",
            " [    37  75000]\n",
            " [    42  90000]\n",
            " [    37  57000]\n",
            " [    36  99000]\n",
            " [    60  34000]\n",
            " [    54  70000]\n",
            " [    41  72000]\n",
            " [    40  71000]\n",
            " [    42  54000]\n",
            " [    43 129000]\n",
            " [    53  34000]\n",
            " [    47  50000]\n",
            " [    42  79000]\n",
            " [    42 104000]\n",
            " [    59  29000]\n",
            " [    58  47000]\n",
            " [    46  88000]\n",
            " [    38  71000]\n",
            " [    54  26000]\n",
            " [    60  46000]\n",
            " [    60  83000]\n",
            " [    39  73000]\n",
            " [    59 130000]\n",
            " [    37  80000]\n",
            " [    46  32000]\n",
            " [    46  74000]\n",
            " [    42  53000]\n",
            " [    41  87000]\n",
            " [    58  23000]\n",
            " [    42  64000]\n",
            " [    48  33000]\n",
            " [    44 139000]\n",
            " [    49  28000]\n",
            " [    57  33000]\n",
            " [    56  60000]\n",
            " [    49  39000]\n",
            " [    39  71000]\n",
            " [    47  34000]\n",
            " [    48  35000]\n",
            " [    48  33000]\n",
            " [    47  23000]\n",
            " [    45  45000]\n",
            " [    60  42000]\n",
            " [    39  59000]\n",
            " [    46  41000]\n",
            " [    51  23000]\n",
            " [    50  20000]\n",
            " [    36  33000]\n",
            " [    49  36000]] [[0]\n",
            " [0]\n",
            " [0]\n",
            " [0]\n",
            " [0]\n",
            " [0]\n",
            " [0]\n",
            " [1]\n",
            " [0]\n",
            " [0]\n",
            " [0]\n",
            " [0]\n",
            " [0]\n",
            " [0]\n",
            " [0]\n",
            " [0]\n",
            " [1]\n",
            " [1]\n",
            " [1]\n",
            " [1]\n",
            " [1]\n",
            " [1]\n",
            " [1]\n",
            " [1]\n",
            " [1]\n",
            " [1]\n",
            " [1]\n",
            " [1]\n",
            " [0]\n",
            " [0]\n",
            " [0]\n",
            " [1]\n",
            " [0]\n",
            " [0]\n",
            " [0]\n",
            " [0]\n",
            " [0]\n",
            " [0]\n",
            " [0]\n",
            " [0]\n",
            " [0]\n",
            " [0]\n",
            " [0]\n",
            " [0]\n",
            " [0]\n",
            " [0]\n",
            " [0]\n",
            " [0]\n",
            " [1]\n",
            " [0]\n",
            " [0]\n",
            " [0]\n",
            " [0]\n",
            " [0]\n",
            " [0]\n",
            " [0]\n",
            " [0]\n",
            " [0]\n",
            " [0]\n",
            " [0]\n",
            " [0]\n",
            " [0]\n",
            " [0]\n",
            " [1]\n",
            " [0]\n",
            " [0]\n",
            " [0]\n",
            " [0]\n",
            " [0]\n",
            " [0]\n",
            " [0]\n",
            " [0]\n",
            " [0]\n",
            " [0]\n",
            " [0]\n",
            " [1]\n",
            " [0]\n",
            " [0]\n",
            " [0]\n",
            " [0]\n",
            " [0]\n",
            " [0]\n",
            " [0]\n",
            " [0]\n",
            " [0]\n",
            " [1]\n",
            " [0]\n",
            " [0]\n",
            " [0]\n",
            " [0]\n",
            " [0]\n",
            " [0]\n",
            " [0]\n",
            " [0]\n",
            " [0]\n",
            " [0]\n",
            " [0]\n",
            " [1]\n",
            " [0]\n",
            " [0]\n",
            " [0]\n",
            " [0]\n",
            " [0]\n",
            " [1]\n",
            " [0]\n",
            " [0]\n",
            " [0]\n",
            " [0]\n",
            " [0]\n",
            " [0]\n",
            " [0]\n",
            " [0]\n",
            " [0]\n",
            " [0]\n",
            " [0]\n",
            " [0]\n",
            " [0]\n",
            " [0]\n",
            " [0]\n",
            " [0]\n",
            " [0]\n",
            " [0]\n",
            " [0]\n",
            " [0]\n",
            " [0]\n",
            " [0]\n",
            " [0]\n",
            " [0]\n",
            " [0]\n",
            " [0]\n",
            " [0]\n",
            " [0]\n",
            " [0]\n",
            " [0]\n",
            " [0]\n",
            " [0]\n",
            " [0]\n",
            " [1]\n",
            " [0]\n",
            " [0]\n",
            " [0]\n",
            " [0]\n",
            " [0]\n",
            " [0]\n",
            " [0]\n",
            " [0]\n",
            " [1]\n",
            " [0]\n",
            " [0]\n",
            " [0]\n",
            " [0]\n",
            " [0]\n",
            " [0]\n",
            " [0]\n",
            " [0]\n",
            " [0]\n",
            " [0]\n",
            " [0]\n",
            " [0]\n",
            " [1]\n",
            " [1]\n",
            " [0]\n",
            " [0]\n",
            " [0]\n",
            " [0]\n",
            " [0]\n",
            " [0]\n",
            " [0]\n",
            " [1]\n",
            " [0]\n",
            " [0]\n",
            " [0]\n",
            " [0]\n",
            " [0]\n",
            " [0]\n",
            " [0]\n",
            " [0]\n",
            " [0]\n",
            " [0]\n",
            " [0]\n",
            " [0]\n",
            " [0]\n",
            " [1]\n",
            " [0]\n",
            " [0]\n",
            " [0]\n",
            " [0]\n",
            " [0]\n",
            " [0]\n",
            " [0]\n",
            " [0]\n",
            " [0]\n",
            " [0]\n",
            " [0]\n",
            " [0]\n",
            " [0]\n",
            " [0]\n",
            " [0]\n",
            " [0]\n",
            " [0]\n",
            " [0]\n",
            " [0]\n",
            " [1]\n",
            " [0]\n",
            " [1]\n",
            " [0]\n",
            " [1]\n",
            " [0]\n",
            " [1]\n",
            " [0]\n",
            " [1]\n",
            " [1]\n",
            " [0]\n",
            " [0]\n",
            " [0]\n",
            " [1]\n",
            " [0]\n",
            " [0]\n",
            " [0]\n",
            " [1]\n",
            " [0]\n",
            " [1]\n",
            " [1]\n",
            " [1]\n",
            " [0]\n",
            " [0]\n",
            " [1]\n",
            " [1]\n",
            " [0]\n",
            " [1]\n",
            " [1]\n",
            " [0]\n",
            " [1]\n",
            " [1]\n",
            " [0]\n",
            " [1]\n",
            " [0]\n",
            " [0]\n",
            " [0]\n",
            " [1]\n",
            " [1]\n",
            " [0]\n",
            " [1]\n",
            " [1]\n",
            " [0]\n",
            " [1]\n",
            " [0]\n",
            " [1]\n",
            " [0]\n",
            " [1]\n",
            " [0]\n",
            " [0]\n",
            " [1]\n",
            " [1]\n",
            " [0]\n",
            " [1]\n",
            " [0]\n",
            " [0]\n",
            " [1]\n",
            " [1]\n",
            " [0]\n",
            " [1]\n",
            " [1]\n",
            " [0]\n",
            " [1]\n",
            " [1]\n",
            " [0]\n",
            " [0]\n",
            " [1]\n",
            " [0]\n",
            " [0]\n",
            " [1]\n",
            " [1]\n",
            " [1]\n",
            " [1]\n",
            " [1]\n",
            " [0]\n",
            " [1]\n",
            " [1]\n",
            " [1]\n",
            " [1]\n",
            " [0]\n",
            " [1]\n",
            " [1]\n",
            " [0]\n",
            " [1]\n",
            " [0]\n",
            " [1]\n",
            " [0]\n",
            " [1]\n",
            " [1]\n",
            " [1]\n",
            " [1]\n",
            " [0]\n",
            " [0]\n",
            " [0]\n",
            " [1]\n",
            " [1]\n",
            " [0]\n",
            " [1]\n",
            " [1]\n",
            " [1]\n",
            " [1]\n",
            " [1]\n",
            " [0]\n",
            " [0]\n",
            " [0]\n",
            " [1]\n",
            " [1]\n",
            " [0]\n",
            " [0]\n",
            " [1]\n",
            " [0]\n",
            " [1]\n",
            " [0]\n",
            " [1]\n",
            " [1]\n",
            " [0]\n",
            " [1]\n",
            " [0]\n",
            " [1]\n",
            " [1]\n",
            " [0]\n",
            " [1]\n",
            " [1]\n",
            " [0]\n",
            " [0]\n",
            " [0]\n",
            " [1]\n",
            " [1]\n",
            " [0]\n",
            " [1]\n",
            " [0]\n",
            " [0]\n",
            " [1]\n",
            " [0]\n",
            " [1]\n",
            " [0]\n",
            " [0]\n",
            " [1]\n",
            " [1]\n",
            " [0]\n",
            " [0]\n",
            " [1]\n",
            " [1]\n",
            " [0]\n",
            " [1]\n",
            " [1]\n",
            " [0]\n",
            " [0]\n",
            " [1]\n",
            " [0]\n",
            " [1]\n",
            " [0]\n",
            " [1]\n",
            " [1]\n",
            " [1]\n",
            " [0]\n",
            " [1]\n",
            " [0]\n",
            " [1]\n",
            " [1]\n",
            " [1]\n",
            " [0]\n",
            " [1]\n",
            " [1]\n",
            " [1]\n",
            " [1]\n",
            " [0]\n",
            " [1]\n",
            " [1]\n",
            " [1]\n",
            " [0]\n",
            " [1]\n",
            " [0]\n",
            " [1]\n",
            " [0]\n",
            " [0]\n",
            " [1]\n",
            " [1]\n",
            " [0]\n",
            " [1]\n",
            " [1]\n",
            " [1]\n",
            " [1]\n",
            " [1]\n",
            " [1]\n",
            " [0]\n",
            " [1]\n",
            " [1]\n",
            " [1]\n",
            " [1]\n",
            " [1]\n",
            " [1]\n",
            " [0]\n",
            " [1]\n",
            " [1]\n",
            " [1]\n",
            " [0]\n",
            " [1]]\n",
            "[[55  3]\n",
            " [18 24]]\n",
            "79.0\n"
          ]
        },
        {
          "output_type": "display_data",
          "data": {
            "text/plain": [
              "<Figure size 432x288 with 1 Axes>"
            ],
            "image/png": "[encoded data removed]"
          },
          "metadata": {
            "needs_background": "light"
          }
        },
        {
          "output_type": "stream",
          "name": "stderr",
          "text": [
            "WARNING:matplotlib.axes._axes:*c* argument looks like a single numeric RGB or RGBA sequence, which should be avoided as value-mapping will have precedence in case its length matches with *x* & *y*.  Please use the *color* keyword-argument or provide a 2-D array with a single row if you intend to specify the same RGB or RGBA value for all points.\n",
            "WARNING:matplotlib.axes._axes:*c* argument looks like a single numeric RGB or RGBA sequence, which should be avoided as value-mapping will have precedence in case its length matches with *x* & *y*.  Please use the *color* keyword-argument or provide a 2-D array with a single row if you intend to specify the same RGB or RGBA value for all points.\n"
          ]
        },
        {
          "output_type": "display_data",
          "data": {
            "text/plain": [
              "<Figure size 432x288 with 1 Axes>"
            ],
            "image/png": "[encoded data removed]"
          },
          "metadata": {
            "needs_background": "light"
          }
        }
      ]
    },
    {
      "cell_type": "markdown",
      "source": [
        "# ***Practical 8***"
      ],
      "metadata": {
        "id": "A14lBeKu-zvp"
      }
    },
    {
      "cell_type": "markdown",
      "source": [
        "AIM : Using any data apply preprocessing methods to identify and fill\n",
        "missing values."
      ],
      "metadata": {
        "id": "qv8Qp3hb-1Yw"
      }
    },
    {
      "cell_type": "code",
      "source": [
        "# 8.1 Fill missing value using mean\n",
        "\n",
        "import pandas as pd\n",
        "import numpy as np\n",
        "\n",
        "data = pd.read_csv(\"/content/Employee_income.csv\")\n",
        "print(data)\n",
        "\n",
        "mean_filled = data.copy()\n",
        "mean_value = data[\"salary\"].mean()\n",
        "mean_filled[\"salary\"] = data[\"salary\"].fillna(mean_value)\n",
        "print(mean_filled)"
      ],
      "metadata": {
        "colab": {
          "base_uri": "https://localhost:8080/"
        },
        "id": "pMJ_lrO34P77",
        "outputId": "eb416bb6-dde8-403d-baac-3768be409496"
      },
      "execution_count": null,
      "outputs": [
        {
          "output_type": "stream",
          "name": "stdout",
          "text": [
            "    id  first_name   last_name     salary\n",
            "0    1     Mariann      Lawden  12016.206\n",
            "1    2        Nata        Sloy  10159.704\n",
            "2    3   Sylvester     Glasman  11490.046\n",
            "3    4        Aile    Winchcum  16131.429\n",
            "4    5      Shamus      Issatt  15381.910\n",
            "5    6  Philippine   Berendsen  15245.014\n",
            "6    7      Jarret       Meigh  12378.297\n",
            "7    8       Leroy      Humbee  13869.057\n",
            "8    9       Valry       Atyeo  18620.663\n",
            "9   10     Kinsley      Mousby  13972.672\n",
            "10  11         Von      Griggs  18537.366\n",
            "11  12      Roxane    Rennicks        NaN\n",
            "12  13         Kip     Durrant        NaN\n",
            "13  14     Maynard      Keggin        NaN\n",
            "14  15      Ronica     Jurczik  13123.571\n",
            "15  16      Thalia  Rodenburgh        NaN\n",
            "16  17        Nomi      Kemmis  12282.516\n",
            "17  18     Terrell       Borer  17560.137\n",
            "18  19       Kasey       Kumar        NaN\n",
            "19  20         Cal      Arnald  18277.429\n",
            "    id  first_name   last_name      salary\n",
            "0    1     Mariann      Lawden  12016.2060\n",
            "1    2        Nata        Sloy  10159.7040\n",
            "2    3   Sylvester     Glasman  11490.0460\n",
            "3    4        Aile    Winchcum  16131.4290\n",
            "4    5      Shamus      Issatt  15381.9100\n",
            "5    6  Philippine   Berendsen  15245.0140\n",
            "6    7      Jarret       Meigh  12378.2970\n",
            "7    8       Leroy      Humbee  13869.0570\n",
            "8    9       Valry       Atyeo  18620.6630\n",
            "9   10     Kinsley      Mousby  13972.6720\n",
            "10  11         Von      Griggs  18537.3660\n",
            "11  12      Roxane    Rennicks  14603.0678\n",
            "12  13         Kip     Durrant  14603.0678\n",
            "13  14     Maynard      Keggin  14603.0678\n",
            "14  15      Ronica     Jurczik  13123.5710\n",
            "15  16      Thalia  Rodenburgh  14603.0678\n",
            "16  17        Nomi      Kemmis  12282.5160\n",
            "17  18     Terrell       Borer  17560.1370\n",
            "18  19       Kasey       Kumar  14603.0678\n",
            "19  20         Cal      Arnald  18277.4290\n"
          ]
        }
      ]
    },
    {
      "cell_type": "code",
      "source": [
        "# 8.2 Fill missing value using median .\n",
        "import pandas as pd\n",
        "import numpy as np\n",
        "\n",
        "data = pd.read_csv(\"/content/Employee_income.csv\")\n",
        "print(data)\n",
        "\n",
        "median_filled = data.copy()\n",
        "median_value = data[\"salary\"].mean()\n",
        "median_filled[\"salary\"] = data[\"salary\"].fillna(median_value)\n",
        "print(median_filled)"
      ],
      "metadata": {
        "colab": {
          "base_uri": "https://localhost:8080/"
        },
        "id": "_uekpJz9_BSo",
        "outputId": "742c0a79-b1ca-4ef4-9ff0-9c9b6a8df5a7"
      },
      "execution_count": null,
      "outputs": [
        {
          "output_type": "stream",
          "name": "stdout",
          "text": [
            "    id  first_name   last_name     salary\n",
            "0    1     Mariann      Lawden  12016.206\n",
            "1    2        Nata        Sloy  10159.704\n",
            "2    3   Sylvester     Glasman  11490.046\n",
            "3    4        Aile    Winchcum  16131.429\n",
            "4    5      Shamus      Issatt  15381.910\n",
            "5    6  Philippine   Berendsen  15245.014\n",
            "6    7      Jarret       Meigh  12378.297\n",
            "7    8       Leroy      Humbee  13869.057\n",
            "8    9       Valry       Atyeo  18620.663\n",
            "9   10     Kinsley      Mousby  13972.672\n",
            "10  11         Von      Griggs  18537.366\n",
            "11  12      Roxane    Rennicks        NaN\n",
            "12  13         Kip     Durrant        NaN\n",
            "13  14     Maynard      Keggin        NaN\n",
            "14  15      Ronica     Jurczik  13123.571\n",
            "15  16      Thalia  Rodenburgh        NaN\n",
            "16  17        Nomi      Kemmis  12282.516\n",
            "17  18     Terrell       Borer  17560.137\n",
            "18  19       Kasey       Kumar        NaN\n",
            "19  20         Cal      Arnald  18277.429\n",
            "    id  first_name   last_name      salary\n",
            "0    1     Mariann      Lawden  12016.2060\n",
            "1    2        Nata        Sloy  10159.7040\n",
            "2    3   Sylvester     Glasman  11490.0460\n",
            "3    4        Aile    Winchcum  16131.4290\n",
            "4    5      Shamus      Issatt  15381.9100\n",
            "5    6  Philippine   Berendsen  15245.0140\n",
            "6    7      Jarret       Meigh  12378.2970\n",
            "7    8       Leroy      Humbee  13869.0570\n",
            "8    9       Valry       Atyeo  18620.6630\n",
            "9   10     Kinsley      Mousby  13972.6720\n",
            "10  11         Von      Griggs  18537.3660\n",
            "11  12      Roxane    Rennicks  14603.0678\n",
            "12  13         Kip     Durrant  14603.0678\n",
            "13  14     Maynard      Keggin  14603.0678\n",
            "14  15      Ronica     Jurczik  13123.5710\n",
            "15  16      Thalia  Rodenburgh  14603.0678\n",
            "16  17        Nomi      Kemmis  12282.5160\n",
            "17  18     Terrell       Borer  17560.1370\n",
            "18  19       Kasey       Kumar  14603.0678\n",
            "19  20         Cal      Arnald  18277.4290\n"
          ]
        }
      ]
    },
    {
      "cell_type": "code",
      "source": [
        "# 8.3 Remove records with missing value\n",
        "import pandas as pd\n",
        "import numpy as np\n",
        "\n",
        "data = pd.read_csv(\"/content/Employee_income.csv\")\n",
        "print(data)\n",
        "\n",
        "dropped_dataset = data.dropna()\n",
        "print(dropped_dataset)"
      ],
      "metadata": {
        "colab": {
          "base_uri": "https://localhost:8080/"
        },
        "id": "1QRu1nZ0_NIc",
        "outputId": "3f3fe3ee-5d7f-42ff-eb24-4c32649d81c6"
      },
      "execution_count": null,
      "outputs": [
        {
          "output_type": "stream",
          "name": "stdout",
          "text": [
            "    id  first_name   last_name     salary\n",
            "0    1     Mariann      Lawden  12016.206\n",
            "1    2        Nata        Sloy  10159.704\n",
            "2    3   Sylvester     Glasman  11490.046\n",
            "3    4        Aile    Winchcum  16131.429\n",
            "4    5      Shamus      Issatt  15381.910\n",
            "5    6  Philippine   Berendsen  15245.014\n",
            "6    7      Jarret       Meigh  12378.297\n",
            "7    8       Leroy      Humbee  13869.057\n",
            "8    9       Valry       Atyeo  18620.663\n",
            "9   10     Kinsley      Mousby  13972.672\n",
            "10  11         Von      Griggs  18537.366\n",
            "11  12      Roxane    Rennicks        NaN\n",
            "12  13         Kip     Durrant        NaN\n",
            "13  14     Maynard      Keggin        NaN\n",
            "14  15      Ronica     Jurczik  13123.571\n",
            "15  16      Thalia  Rodenburgh        NaN\n",
            "16  17        Nomi      Kemmis  12282.516\n",
            "17  18     Terrell       Borer  17560.137\n",
            "18  19       Kasey       Kumar        NaN\n",
            "19  20         Cal      Arnald  18277.429\n",
            "    id  first_name  last_name     salary\n",
            "0    1     Mariann     Lawden  12016.206\n",
            "1    2        Nata       Sloy  10159.704\n",
            "2    3   Sylvester    Glasman  11490.046\n",
            "3    4        Aile   Winchcum  16131.429\n",
            "4    5      Shamus     Issatt  15381.910\n",
            "5    6  Philippine  Berendsen  15245.014\n",
            "6    7      Jarret      Meigh  12378.297\n",
            "7    8       Leroy     Humbee  13869.057\n",
            "8    9       Valry      Atyeo  18620.663\n",
            "9   10     Kinsley     Mousby  13972.672\n",
            "10  11         Von     Griggs  18537.366\n",
            "14  15      Ronica    Jurczik  13123.571\n",
            "16  17        Nomi     Kemmis  12282.516\n",
            "17  18     Terrell      Borer  17560.137\n",
            "19  20         Cal     Arnald  18277.429\n"
          ]
        }
      ]
    },
    {
      "cell_type": "markdown",
      "source": [
        "# ***Practical 9***"
      ],
      "metadata": {
        "id": "v8ac4mMc_b-W"
      }
    },
    {
      "cell_type": "markdown",
      "source": [
        "AIM : Perform and plot under fitting and overfitting in a data set."
      ],
      "metadata": {
        "id": "m5kS3Hmr_dVk"
      }
    },
    {
      "cell_type": "code",
      "source": [
        "import numpy as np\n",
        "import matplotlib.pyplot as plt\n",
        "from sklearn.pipeline import Pipeline\n",
        "from sklearn.preprocessing import PolynomialFeatures\n",
        "from sklearn.linear_model import LinearRegression\n",
        "from sklearn.model_selection import cross_val_score\n",
        "\n",
        "def true_fun(X):\n",
        "  return np.cos(1.5 * np.pi * X)\n",
        "\n",
        "np.random.seed(0)\n",
        "\n",
        "n_samples = 30\n",
        "degrees = [1, 4, 15]\n",
        "\n",
        "X = np.sort(np.random.rand(n_samples))\n",
        "y = true_fun(X) + np.random.randn(n_samples) * 0.1\n",
        "\n",
        "plt.figure(figsize=(14, 5))\n",
        "for i in range(len(degrees)):\n",
        "  ax = plt.subplot(1, len(degrees), i + 1)\n",
        "  plt.setp(ax, xticks=(), yticks=())\n",
        "\n",
        "  polynomial_features = PolynomialFeatures(degree=degrees[i], include_bias=False)\n",
        "  linear_regression = LinearRegression()\n",
        "  pipeline = Pipeline(\n",
        "    [\n",
        "      (\"polynomial_features\", polynomial_features),\n",
        "      (\"linear_regression\", linear_regression),\n",
        "    ]\n",
        "  )\n",
        "  pipeline.fit(X[:, np.newaxis], y)\n",
        "\n",
        "  # Evaluate the models using crossvalidation\n",
        "  scores = cross_val_score(\n",
        "    pipeline, X[:, np.newaxis], y, scoring=\"neg_mean_squared_error\", cv=10\n",
        "  )\n",
        "\n",
        "  X_test = np.linspace(0, 1, 100)\n",
        "  plt.plot(X_test, pipeline.predict(X_test[:, np.newaxis]), label=\"Model\")\n",
        "  plt.plot(X_test, true_fun(X_test), label=\"True function\")\n",
        "  plt.scatter(X, y, edgecolor=\"b\", s=20, label=\"Samples\")\n",
        "  plt.xlabel(\"x\")\n",
        "  plt.ylabel(\"y\")\n",
        "  plt.xlim((0, 1))\n",
        "  plt.ylim((-2, 2))\n",
        "  plt.legend(loc=\"best\")\n",
        "  plt.title(\n",
        "    \"Degree {}\\nMSE = {:.2e}(+/- {:.2e})\".format(\n",
        "      degrees[i], -scores.mean(), scores.std()\n",
        "    )\n",
        "  )\n",
        "plt.show()"
      ],
      "metadata": {
        "colab": {
          "base_uri": "https://localhost:8080/",
          "height": 348
        },
        "id": "pOoG__GI_Wfq",
        "outputId": "1e9d03c3-1afb-4586-e2ff-110aafd31c2d"
      },
      "execution_count": null,
      "outputs": [
        {
          "output_type": "display_data",
          "data": {
            "text/plain": [
              "<Figure size 1008x360 with 3 Axes>"
            ],
            "image/png": "[encoded data removed]"
          },
          "metadata": {}
        }
      ]
    },
    {
      "cell_type": "markdown",
      "source": [
        "# ***Practical 10***"
      ],
      "metadata": {
        "id": "u2C5MtuoAGdT"
      }
    },
    {
      "cell_type": "markdown",
      "source": [
        "AIM : Implementation of clustering and classification algorithms."
      ],
      "metadata": {
        "id": "IwJBJKi8AI9n"
      }
    },
    {
      "cell_type": "code",
      "source": [
        "# 10.1 K-Means clustering Algorithm\n",
        "\n",
        "import matplotlib.pyplot as plt\n",
        "from sklearn.datasets import make_blobs\n",
        "from sklearn.cluster import KMeans\n",
        "\n",
        "X, y_true = make_blobs(n_samples=300, centers=4, cluster_std=0.60, random_state=0)\n",
        "plt.scatter(X[:, 0], X[:, 1], s=50)\n",
        "plt.show()\n",
        "\n",
        "kmeans = KMeans(n_clusters=4)\n",
        "kmeans.fit(X)\n",
        "y_kmeans = kmeans.predict(X)\n",
        "\n",
        "plt.scatter(X[:, 0], X[:, 1], c=y_kmeans, s=50, cmap=\"viridis\")\n",
        "\n",
        "centers = kmeans.cluster_centers_\n",
        "plt.scatter(centers[:, 0], centers[:, 1], c=\"black\", s=200, alpha=0.5)\n",
        "plt.show()"
      ],
      "metadata": {
        "colab": {
          "base_uri": "https://localhost:8080/",
          "height": 513
        },
        "id": "aKM4ZTn-AA7v",
        "outputId": "36244099-3541-402e-a066-c492f412446a"
      },
      "execution_count": null,
      "outputs": [
        {
          "output_type": "display_data",
          "data": {
            "text/plain": [
              "<Figure size 432x288 with 1 Axes>"
            ],
            "image/png": "[encoded data removed]"
          },
          "metadata": {
            "needs_background": "light"
          }
        },
        {
          "output_type": "display_data",
          "data": {
            "text/plain": [
              "<Figure size 432x288 with 1 Axes>"
            ],
            "image/png": "[encoded data removed]"
          },
          "metadata": {
            "needs_background": "light"
          }
        }
      ]
    },
    {
      "cell_type": "code",
      "source": [
        "# 10.2 Decision Tree Classification Algorithm\n",
        "\n",
        "import pandas as pd\n",
        "from sklearn.model_selection import train_test_split\n",
        "from sklearn.tree import DecisionTreeClassifier\n",
        "from sklearn.metrics import classification_report\n",
        "from sklearn.metrics import confusion_matrix\n",
        "\n",
        "raw_data = pd.read_csv(\"/content/kyphosis.csv\")\n",
        "\n",
        "x = raw_data.drop(\"Kyphosis\", axis=1)\n",
        "y = raw_data[\"Kyphosis\"]\n",
        "x_training_data, x_test_data, y_training_data, y_test_data = train_test_split(\n",
        "  x, y, test_size=0.3\n",
        ")\n",
        "\n",
        "model = DecisionTreeClassifier()\n",
        "model.fit(x_training_data, y_training_data)\n",
        "predictions = model.predict(x_test_data)\n",
        "\n",
        "print(classification_report(y_test_data, predictions))\n",
        "print(confusion_matrix(y_test_data, predictions))"
      ],
      "metadata": {
        "colab": {
          "base_uri": "https://localhost:8080/"
        },
        "id": "-j29HIoLAOOF",
        "outputId": "843e0032-d4f5-499f-d546-85956de1a02f"
      },
      "execution_count": null,
      "outputs": [
        {
          "output_type": "stream",
          "name": "stdout",
          "text": [
            "              precision    recall  f1-score   support\n",
            "\n",
            "      absent       0.89      0.76      0.82        21\n",
            "     present       0.29      0.50      0.36         4\n",
            "\n",
            "    accuracy                           0.72        25\n",
            "   macro avg       0.59      0.63      0.59        25\n",
            "weighted avg       0.79      0.72      0.75        25\n",
            "\n",
            "[[16  5]\n",
            " [ 2  2]]\n"
          ]
        }
      ]
    },
    {
      "cell_type": "markdown",
      "source": [
        "# ***_ _ _ _ _ _ _ _ _ _ END OF PRACTICALS _ _ _ _ _ _ _ _ _ _***"
      ],
      "metadata": {
        "id": "3hNj8mLGAePN"
      }
    }
  ]
}